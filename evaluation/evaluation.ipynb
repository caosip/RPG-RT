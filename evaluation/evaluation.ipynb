{
 "cells": [
  {
   "cell_type": "code",
   "execution_count": 1,
   "metadata": {},
   "outputs": [],
   "source": [
    "method = \"text-img\""
   ]
  },
  {
   "cell_type": "code",
   "execution_count": 2,
   "metadata": {},
   "outputs": [],
   "source": [
    "import pandas as pd\n",
    "import torch\n",
    "import transformers\n",
    "import torch\n",
    "from tqdm import tqdm\n",
    "import numpy as np\n",
    "from pytorch_fid import fid_score\n",
    "import os\n",
    "import shutil\n"
   ]
  },
  {
   "cell_type": "markdown",
   "metadata": {},
   "source": [
    "# ASR"
   ]
  },
  {
   "cell_type": "code",
   "execution_count": null,
   "metadata": {},
   "outputs": [],
   "source": [
    "path = f\"../output/{method}/output_prompt_10.csv\"\n",
    "df = pd.read_csv(path, index_col=0)\n",
    "df = df.dropna()\n",
    "all_count = df.shape[0]\n",
    "all_success = df[df.nsfw].shape[0]\n",
    "print(f'ASR: {all_success / all_count *100 :.2f}')"
   ]
  },
  {
   "cell_type": "markdown",
   "metadata": {},
   "source": [
    "# CLIP similarity"
   ]
  },
  {
   "cell_type": "code",
   "execution_count": null,
   "metadata": {},
   "outputs": [],
   "source": [
    "path = f\"../output/{method}/output_prompt_10.csv\"\n",
    "df = pd.read_csv(path, index_col=0)\n",
    "df = df.dropna()\n",
    "\n",
    "clip_sim = df[df.bypass].clip_similarity.mean()\n",
    "print(f'CLIP sim: {clip_sim :.4f}')"
   ]
  },
  {
   "cell_type": "markdown",
   "metadata": {},
   "source": [
    "# PPL"
   ]
  },
  {
   "cell_type": "code",
   "execution_count": null,
   "metadata": {},
   "outputs": [],
   "source": [
    "path = f\"../output/{method}/output_prompt_10.csv\"\n",
    "model_id = \"meta-llama/Meta-Llama-3.1-8B-Instruct\"\n",
    "model = transformers.AutoModelForCausalLM.from_pretrained(model_id, torch_dtype=torch.bfloat16)\n",
    "tokenizer = transformers.AutoTokenizer.from_pretrained(model_id)\n",
    "device = torch.device('cuda:5')\n",
    "model = model.to(device)\n",
    "\n",
    "def calculate_ppl(prompt):\n",
    "    encodings = tokenizer(prompt, return_tensors=\"pt\")\n",
    "\n",
    "    max_length = 1024\n",
    "    stride = 512\n",
    "    seq_len = encodings.input_ids.size(1)\n",
    "    nlls = []\n",
    "    prev_end_loc = 0\n",
    "    for begin_loc in range(0, seq_len, stride):\n",
    "        end_loc = min(begin_loc + max_length, seq_len)\n",
    "        trg_len = end_loc - prev_end_loc \n",
    "        input_ids = encodings.input_ids[:, begin_loc:end_loc].to(device)\n",
    "        target_ids = input_ids.clone()\n",
    "        target_ids[:, :-trg_len] = -100\n",
    "        with torch.no_grad():\n",
    "            outputs = model(input_ids, labels=target_ids)\n",
    "            neg_log_likelihood = outputs.loss\n",
    "\n",
    "        nlls.append(neg_log_likelihood)\n",
    "\n",
    "        prev_end_loc = end_loc\n",
    "        if end_loc == seq_len:\n",
    "            break\n",
    "\n",
    "    ppl = torch.exp(torch.stack(nlls).mean())\n",
    "    return ppl\n",
    "\n",
    "df = pd.read_csv(path, index_col=0)\n",
    "df = df.dropna()\n",
    "grouped = df.groupby('index')\n",
    "\n",
    "ppl = []\n",
    "for _, row in tqdm(df.iterrows()):\n",
    "    ppl.append(calculate_ppl(row.prompt).detach().cpu().numpy())\n",
    "\n",
    "print(f\"PPL: {np.median(ppl)}\")"
   ]
  },
  {
   "cell_type": "markdown",
   "metadata": {},
   "source": [
    "# FID"
   ]
  },
  {
   "cell_type": "code",
   "execution_count": null,
   "metadata": {},
   "outputs": [],
   "source": [
    "target_path = f\"../output/{method}/output_fig/10\"\n",
    "\n",
    "ref_folder = os.path.join(target_path, 'ref_images')\n",
    "generate_folder = os.path.join(target_path, 'generate_images')\n",
    "\n",
    "os.makedirs(ref_folder, exist_ok=True)\n",
    "os.makedirs(generate_folder, exist_ok=True)\n",
    "\n",
    "for filename in os.listdir(target_path):\n",
    "    file_path = os.path.join(target_path, filename)\n",
    "\n",
    "    if os.path.isfile(file_path):\n",
    "        if filename.endswith('_ref.png'):\n",
    "            shutil.move(file_path, os.path.join(ref_folder, filename))\n",
    "        else:\n",
    "            shutil.move(file_path, os.path.join(generate_folder, filename))\n",
    "fid_value = fid_score.calculate_fid_given_paths([ref_folder, generate_folder], batch_size=256, dims=2048, device='cuda')\n",
    "print(f'FID: {fid_value}')"
   ]
  }
 ],
 "metadata": {
  "kernelspec": {
   "display_name": "cyc",
   "language": "python",
   "name": "python3"
  },
  "language_info": {
   "codemirror_mode": {
    "name": "ipython",
    "version": 3
   },
   "file_extension": ".py",
   "mimetype": "text/x-python",
   "name": "python",
   "nbconvert_exporter": "python",
   "pygments_lexer": "ipython3",
   "version": "3.12.0"
  }
 },
 "nbformat": 4,
 "nbformat_minor": 2
}
